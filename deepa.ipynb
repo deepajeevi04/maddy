{
 "cells": [
  {
   "cell_type": "code",
   "execution_count": 1,
   "metadata": {},
   "outputs": [],
   "source": [
    "import pandas as pd\n",
    "import numpy as np\n",
    "import matplotlib.pyplot as plt\n"
   ]
  },
  {
   "cell_type": "code",
   "execution_count": 2,
   "metadata": {},
   "outputs": [],
   "source": [
    "col = pd.read_csv(r'C:\\Users\\KANTHRAJ\\Desktop\\data.csv')"
   ]
  },
  {
   "cell_type": "code",
   "execution_count": 3,
   "metadata": {},
   "outputs": [
    {
     "data": {
      "text/plain": [
       "0           Yes\n",
       "1    Don't know\n",
       "2    Don't know\n",
       "3            No\n",
       "4    Don't know\n",
       "Name: anonymity, dtype: object"
      ]
     },
     "execution_count": 3,
     "metadata": {},
     "output_type": "execute_result"
    }
   ],
   "source": [
    "col.iloc[:,16].head()"
   ]
  },
  {
   "cell_type": "code",
   "execution_count": 5,
   "metadata": {},
   "outputs": [
    {
     "name": "stdout",
     "output_type": "stream",
     "text": [
      "{'Yes': 375, \"Don't know\": 819, 'No': 65}\n"
     ]
    }
   ],
   "source": [
    "anonymity_list=list(col.iloc[:,16])\n",
    "anonymity=dict()\n",
    "for i in  anonymity_list:\n",
    "    if i not in  anonymity:\n",
    "         anonymity[i]=1\n",
    "    else:\n",
    "        anonymity[i]= anonymity[i]+1\n",
    "\n",
    "print( anonymity)"
   ]
  },
  {
   "cell_type": "code",
   "execution_count": 6,
   "metadata": {},
   "outputs": [
    {
     "data": {
      "image/png": "[encoded data removed]",
      "text/plain": [
       "<matplotlib.figure.Figure at 0x23218b155f8>"
      ]
     },
     "metadata": {},
     "output_type": "display_data"
    }
   ],
   "source": [
    "activities=list(anonymity.keys())\n",
    "slices=list(anonymity.values())\n",
    "cols=['c','m','r']\n",
    "fig_size = plt.rcParams[\"figure.figsize\"]\n",
    "fig_size[0]=3\n",
    "fig_size[1]=3\n",
    "plt.rcParams[\"figure.figsize\"] = fig_size     \n",
    "                 \n",
    "plt.pie(slices,labels=None,colors=cols,startangle=90,shadow=True)\n",
    "plt.legend(anonymity.items())\n",
    "plt.title('anonymity')\n",
    "plt.show()"
   ]
  },
  {
   "cell_type": "code",
   "execution_count": 7,
   "metadata": {},
   "outputs": [
    {
     "data": {
      "text/plain": [
       "0         Somewhat easy\n",
       "1            Don't know\n",
       "2    Somewhat difficult\n",
       "3    Somewhat difficult\n",
       "4            Don't know\n",
       "Name: leave, dtype: object"
      ]
     },
     "execution_count": 7,
     "metadata": {},
     "output_type": "execute_result"
    }
   ],
   "source": [
    "col.iloc[:,17].head()"
   ]
  },
  {
   "cell_type": "code",
   "execution_count": 8,
   "metadata": {},
   "outputs": [
    {
     "name": "stdout",
     "output_type": "stream",
     "text": [
      "{'Somewhat easy': 266, \"Don't know\": 563, 'Somewhat difficult': 126, 'Very difficult': 98, 'Very easy': 206}\n"
     ]
    }
   ],
   "source": [
    "leave_list=list(col.iloc[:,17])\n",
    "leave=dict()\n",
    "for i in  leave_list:\n",
    "    if i not in  leave:\n",
    "        leave[i]=1\n",
    "    else:\n",
    "        leave[i]= leave[i]+1\n",
    "\n",
    "print(leave)"
   ]
  },
  {
   "cell_type": "code",
   "execution_count": 9,
   "metadata": {},
   "outputs": [
    {
     "data": {
      "image/png": "[encoded data removed]",
      "text/plain": [
       "<matplotlib.figure.Figure at 0x23218d0ed68>"
      ]
     },
     "metadata": {},
     "output_type": "display_data"
    }
   ],
   "source": [
    "activities=list( leave.keys())\n",
    "slices=list( leave.values())\n",
    "cols=['c','m','r','darkgreen','yellow']\n",
    "fig_size = plt.rcParams[\"figure.figsize\"]\n",
    "fig_size[0]=3\n",
    "fig_size[1]=3\n",
    "plt.rcParams[\"figure.figsize\"] = fig_size     \n",
    "                 \n",
    "plt.pie(slices,labels=None,colors=cols,startangle=90,shadow=True)\n",
    "plt.legend( leave.items())\n",
    "plt.title(' leave')\n",
    "plt.show()"
   ]
  },
  {
   "cell_type": "code",
   "execution_count": 10,
   "metadata": {},
   "outputs": [
    {
     "data": {
      "text/plain": [
       "0       No\n",
       "1    Maybe\n",
       "2       No\n",
       "3      Yes\n",
       "4       No\n",
       "Name: mental_health_consequence, dtype: object"
      ]
     },
     "execution_count": 10,
     "metadata": {},
     "output_type": "execute_result"
    }
   ],
   "source": [
    "col.iloc[:,18].head()"
   ]
  },
  {
   "cell_type": "code",
   "execution_count": 11,
   "metadata": {},
   "outputs": [
    {
     "name": "stdout",
     "output_type": "stream",
     "text": [
      "{'No': 490, 'Maybe': 477, 'Yes': 292}\n"
     ]
    }
   ],
   "source": [
    "mental_health_consequence_list=list(col.iloc[:,18])\n",
    "mental_health_consequence=dict()\n",
    "for i in   mental_health_consequence_list:\n",
    "    if i not in  mental_health_consequence:\n",
    "        mental_health_consequence[i]=1\n",
    "    else:\n",
    "         mental_health_consequence[i]= mental_health_consequence[i]+1\n",
    "\n",
    "print( mental_health_consequence)"
   ]
  },
  {
   "cell_type": "code",
   "execution_count": 12,
   "metadata": {},
   "outputs": [
    {
     "data": {
      "image/png": "[encoded data removed]",
      "text/plain": [
       "<matplotlib.figure.Figure at 0x23218de1b00>"
      ]
     },
     "metadata": {},
     "output_type": "display_data"
    }
   ],
   "source": [
    "activities=list(mental_health_consequence.keys())\n",
    "slices=list(mental_health_consequence.values())\n",
    "cols=['c','m','r']\n",
    "fig_size = plt.rcParams[\"figure.figsize\"]\n",
    "fig_size[0]=3\n",
    "fig_size[1]=3\n",
    "plt.rcParams[\"figure.figsize\"] = fig_size     \n",
    "                 \n",
    "plt.pie(slices,labels=None,colors=cols,startangle=90,shadow=True)\n",
    "plt.legend(mental_health_consequence.items())\n",
    "plt.title('mental_health_consequence')\n",
    "plt.show()"
   ]
  },
  {
   "cell_type": "code",
   "execution_count": 13,
   "metadata": {},
   "outputs": [
    {
     "data": {
      "text/plain": [
       "0     No\n",
       "1     No\n",
       "2     No\n",
       "3    Yes\n",
       "4     No\n",
       "Name: phys_health_consequence, dtype: object"
      ]
     },
     "execution_count": 13,
     "metadata": {},
     "output_type": "execute_result"
    }
   ],
   "source": [
    "col.iloc[:,19].head()"
   ]
  },
  {
   "cell_type": "code",
   "execution_count": 14,
   "metadata": {},
   "outputs": [
    {
     "name": "stdout",
     "output_type": "stream",
     "text": [
      "{'No': 925, 'Yes': 61, 'Maybe': 273}\n"
     ]
    }
   ],
   "source": [
    "phys_health_consequence_list=list(col.iloc[:,19])\n",
    "phys_health_consequence=dict()\n",
    "for i in phys_health_consequence_list:\n",
    "    if i not in   phys_health_consequence:\n",
    "        phys_health_consequence[i]=1\n",
    "    else:\n",
    "        phys_health_consequence[i]=  phys_health_consequence[i]+1\n",
    "\n",
    "print(phys_health_consequence)"
   ]
  },
  {
   "cell_type": "code",
   "execution_count": 15,
   "metadata": {},
   "outputs": [
    {
     "data": {
      "image/png": "[encoded data removed]",
      "text/plain": [
       "<matplotlib.figure.Figure at 0x23218e414e0>"
      ]
     },
     "metadata": {},
     "output_type": "display_data"
    }
   ],
   "source": [
    "activities=list(phys_health_consequence.keys())\n",
    "slices=list(phys_health_consequence.values())\n",
    "cols=['c','m','r']\n",
    "fig_size = plt.rcParams[\"figure.figsize\"]\n",
    "fig_size[0]=3\n",
    "fig_size[1]=3\n",
    "plt.rcParams[\"figure.figsize\"] = fig_size     \n",
    "                 \n",
    "plt.pie(slices,labels=None,colors=cols,startangle=90,shadow=True)\n",
    "plt.legend(phys_health_consequence.items())\n",
    "plt.title('phys_health_consequence')\n",
    "plt.show()"
   ]
  },
  {
   "cell_type": "code",
   "execution_count": null,
   "metadata": {},
   "outputs": [],
   "source": []
  }
 ],
 "metadata": {
  "kernelspec": {
   "display_name": "Python 3",
   "language": "python",
   "name": "python3"
  },
  "language_info": {
   "codemirror_mode": {
    "name": "ipython",
    "version": 3
   },
   "file_extension": ".py",
   "mimetype": "text/x-python",
   "name": "python",
   "nbconvert_exporter": "python",
   "pygments_lexer": "ipython3",
   "version": "3.6.4"
  }
 },
 "nbformat": 4,
 "nbformat_minor": 2
}
